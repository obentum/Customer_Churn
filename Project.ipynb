{
 "cells": [
  {
   "cell_type": "code",
   "execution_count": 54,
   "id": "6abd3134",
   "metadata": {},
   "outputs": [
    {
     "name": "stdout",
     "output_type": "stream",
     "text": [
      "0.46\n"
     ]
    }
   ],
   "source": [
    "import pandas as pd\n",
    "from sklearn.tree import DecisionTreeClassifier\n",
    "from sklearn.model_selection import train_test_split\n",
    "\n",
    "from sklearn.metrics import accuracy_score\n",
    "\n",
    "\n",
    "# Read customer data from CSV\n",
    "\n",
    "customer_data = pd.read_csv('Customer_data.csv')\n",
    "X = customer_data[['age', 'monthly_payment', 'contract_length']]\n",
    "Y = customer_data['churned']\n",
    "\n",
    "\n",
    "\n",
    "# Split the data into training and testing sets\n",
    "X_train, X_test, Y_train, Y_test = train_test_split (X, Y, test_size=0.1)\n",
    "\n",
    "\n",
    "# Create the DecisionTreeClassifier\n",
    "\n",
    "model = DecisionTreeClassifier()\n",
    "\n",
    "\n",
    "\n",
    "# Fit the model to the training data\n",
    "model.fit(X_train, Y_train)\n",
    "\n",
    "\n",
    "# Make predictions on the test data\n",
    "\n",
    "sample_to_predict = X_test\n",
    "predictions = model.predict(sample_to_predict)\n",
    "\n",
    "\n",
    "score = accuracy_score(Y_test, predictions)\n",
    "\n",
    "\n",
    "# Print the Accuracy\n",
    "\n",
    "print(score)\n",
    "\n",
    "\n",
    "\n"
   ]
  },
  {
   "cell_type": "code",
   "execution_count": null,
   "id": "f80db1b6",
   "metadata": {},
   "outputs": [],
   "source": []
  }
 ],
 "metadata": {
  "kernelspec": {
   "display_name": "Python 3 (ipykernel)",
   "language": "python",
   "name": "python3"
  },
  "language_info": {
   "codemirror_mode": {
    "name": "ipython",
    "version": 3
   },
   "file_extension": ".py",
   "mimetype": "text/x-python",
   "name": "python",
   "nbconvert_exporter": "python",
   "pygments_lexer": "ipython3",
   "version": "3.11.5"
  }
 },
 "nbformat": 4,
 "nbformat_minor": 5
}
